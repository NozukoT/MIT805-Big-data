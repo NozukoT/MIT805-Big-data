{
 "cells": [
  {
   "cell_type": "code",
   "execution_count": 2,
   "metadata": {},
   "outputs": [],
   "source": [
    "import pandas as pd\n",
    "import numpy as np\n",
    "import matplotlib.pyplot as plt\n",
    "from scipy.stats import chi2_contingency\n",
    "import seaborn as sns"
   ]
  },
  {
   "cell_type": "code",
   "execution_count": null,
   "metadata": {},
   "outputs": [],
   "source": [
    "#Datasets for the Projects"
   ]
  },
  {
   "cell_type": "code",
   "execution_count": 5,
   "metadata": {},
   "outputs": [
    {
     "name": "stdout",
     "output_type": "stream",
     "text": [
      "<class 'pandas.core.frame.DataFrame'>\n",
      "RangeIndex: 4687884 entries, 0 to 4687883\n",
      "Data columns (total 7 columns):\n",
      " #   Column                               Dtype  \n",
      "---  ------                               -----  \n",
      " 0   Project ID                           object \n",
      " 1   Donation ID                          object \n",
      " 2   Donor ID                             object \n",
      " 3   Donation Included Optional Donation  object \n",
      " 4   Donation Amount                      float64\n",
      " 5   Donor Cart Sequence                  int64  \n",
      " 6   Donation Received Date               object \n",
      "dtypes: float64(1), int64(1), object(5)\n",
      "memory usage: 250.4+ MB\n"
     ]
    }
   ],
   "source": [
    "#1.Donations dataset with over million records and 7 columns.\n",
    "donations = pd.read_csv(\"D:/Users/s1037782/Downloads/Donations.csv\")\n",
    "donations.info()"
   ]
  },
  {
   "cell_type": "code",
   "execution_count": 7,
   "metadata": {},
   "outputs": [
    {
     "name": "stderr",
     "output_type": "stream",
     "text": [
      "D:\\Users\\s1037782\\Anaconda3\\lib\\site-packages\\IPython\\core\\interactiveshell.py:3071: DtypeWarning: Columns (4) have mixed types.Specify dtype option on import or set low_memory=False.\n",
      "  has_raised = await self.run_ast_nodes(code_ast.body, cell_name,\n"
     ]
    },
    {
     "data": {
      "text/plain": [
       "<bound method DataFrame.info of                                  Donor ID    Donor City Donor State  \\\n",
       "0        00000ce845c00cbf0686c992fc369df4      Evanston    Illinois   \n",
       "1        00002783bc5d108510f3f9666c8b1edd    Appomattox       other   \n",
       "2        00002d44003ed46b066607c5455a999a        Winton  California   \n",
       "3        00002eb25d60a09c318efbd0797bffb5  Indianapolis     Indiana   \n",
       "4        0000300773fe015f870914b42528541b      Paterson  New Jersey   \n",
       "...                                   ...           ...         ...   \n",
       "2122635  ffffb91addfb35f11b30c2943f349654   Hyattsville    Maryland   \n",
       "2122636  ffffc2e1225ac40a3ace9b8562115c9b         Hardy    Virginia   \n",
       "2122637  ffffd8f0fbfa10b99efe90a5ee13c5df      Lynnwood  Washington   \n",
       "2122638  ffffdb40226605870f62422b2b420aab      Pasadena  California   \n",
       "2122639  fffffcc42d1bf7ab742a4fa2d820f9f0       Clinton    Michigan   \n",
       "\n",
       "        Donor Is Teacher Donor Zip  \n",
       "0                     No       602  \n",
       "1                     No       245  \n",
       "2                    Yes       953  \n",
       "3                     No       462  \n",
       "4                     No       075  \n",
       "...                  ...       ...  \n",
       "2122635               No       207  \n",
       "2122636               No       241  \n",
       "2122637               No       980  \n",
       "2122638               No       911  \n",
       "2122639               No       492  \n",
       "\n",
       "[2122640 rows x 5 columns]>"
      ]
     },
     "execution_count": 7,
     "metadata": {},
     "output_type": "execute_result"
    }
   ],
   "source": [
    "#2. Donors dataset with over 2 million records and 5 columns\n",
    "donors=pd.read_csv(\"D:/Users/s1037782/Downloads/Donors.csv\")\n",
    "donors.info"
   ]
  },
  {
   "cell_type": "code",
   "execution_count": 9,
   "metadata": {},
   "outputs": [
    {
     "data": {
      "text/plain": [
       "<bound method DataFrame.info of                                Project ID                         School ID  \\\n",
       "0        7685f0265a19d7b52a470ee4bac883ba  e180c7424cb9c68cb49f141b092a988f   \n",
       "1        f9f4af7099061fb4bf44642a03e5c331  08b20f1e2125103ed7aa17e8d76c71d4   \n",
       "2        afd99a01739ad5557b51b1ba0174e832  1287f5128b1f36bf8434e5705a7cc04d   \n",
       "3        c614a38bb1a5e68e2ae6ad9d94bb2492  900fec9cd7a3188acbc90586a09584ef   \n",
       "4        ec82a697fab916c0db0cdad746338df9  3b200e7fe3e6dde3c169c02e5fb5ae86   \n",
       "...                                   ...                               ...   \n",
       "1110012  9f666ce758b2b1ef81013c9ba44ad187  0b642ece7cc59dc44eebdde5bd76d550   \n",
       "1110013  e793f983654503778ee5ca84c7949ba3  db672a68b83c7825123dfd757cd82fce   \n",
       "1110014  e4f265c55af985eb36b404dc3c7d4bfa  ca45c121a0e1c1450a76f083a37a6cc5   \n",
       "1110015  09bec6536169086e7c5441eb703e292a  41c4a4fb5712361c2efb1b24a6f4830a   \n",
       "1110016  825bc64a9ada078ca216507d1e5a2a0a  a2620081d137bb850f9dcacdec7cd1bd   \n",
       "\n",
       "                               Teacher ID  Teacher Project Posted Sequence  \\\n",
       "0        4ee5200e89d9e2998ec8baad8a3c5968                               25   \n",
       "1        cca2d1d277fb4adb50147b49cdc3b156                                3   \n",
       "2        6c5bd0d4f20547a001628aefd71de89e                                1   \n",
       "3        8ed6f8181d092a8f4c008b18d18e54ad                               40   \n",
       "4        893173d62775f8be7c30bf4220ad0c33                                2   \n",
       "...                                   ...                              ...   \n",
       "1110012  8a1f2ff01d96fa4f6d958fea3b187ee0                                1   \n",
       "1110013  f1607b015231bdcc8ed9eedd0aa10c6a                                3   \n",
       "1110014  eb843a28beb426d697afa249ba0b6499                               10   \n",
       "1110015  58bf90d0f324190e96efe0e83b12a5d3                                2   \n",
       "1110016  0ef64f17751d77b22e2abd0c03c81c0d                               16   \n",
       "\n",
       "        Project Type                                      Project Title  \\\n",
       "0        Teacher-Led             Stand Up to Bullying: Together We Can!   \n",
       "1        Teacher-Led                                 Learning in Color!   \n",
       "2        Teacher-Led  Help Second Grade ESL Students Develop Languag...   \n",
       "3        Teacher-Led  Help Bilingual Students Strengthen Reading Com...   \n",
       "4        Teacher-Led                   Help Us Make Each Minute Count!    \n",
       "...              ...                                                ...   \n",
       "1110012  Teacher-Led                                Screen Printing 101   \n",
       "1110013  Teacher-Led         Flexible Seating for Super Second Graders!   \n",
       "1110014  Teacher-Led                                   Growing Artists!   \n",
       "1110015  Teacher-Led                                     TIME For Kids!   \n",
       "1110016  Teacher-Led                           Growing Digital Learners   \n",
       "\n",
       "                                             Project Essay  \\\n",
       "0        Did you know that 1-7 students in grades K-12 ...   \n",
       "1        Help us have a fun, interactive listening cent...   \n",
       "2        Visiting or moving to a new place can be very ...   \n",
       "3        Students at our school are still working hard ...   \n",
       "4        \"Idle hands\" were something that Issac Watts s...   \n",
       "...                                                    ...   \n",
       "1110012  Most of the scholars had no idea that they wou...   \n",
       "1110013        My students are super second graders!!! ...   \n",
       "1110014  I teach at a Title I school, and 76% of studen...   \n",
       "1110015  I teach at a Title I school for a district tha...   \n",
       "1110016  My preschool students are the sweetest, despit...   \n",
       "\n",
       "                                 Project Short Description  \\\n",
       "0        Did you know that 1-7 students in grades K-12 ...   \n",
       "1        Help us have a fun, interactive listening cent...   \n",
       "2        Visiting or moving to a new place can be very ...   \n",
       "3        Students at our school are still working hard ...   \n",
       "4        \"Idle hands\" were something that Issac Watts s...   \n",
       "...                                                    ...   \n",
       "1110012  Most of the scholars had no idea that they wou...   \n",
       "1110013  My students are super second graders!!! Our sc...   \n",
       "1110014  I teach at a Title I school, and 76% of studen...   \n",
       "1110015  I teach at a Title I school for a district tha...   \n",
       "1110016  My preschool students are the sweetest, despit...   \n",
       "\n",
       "                                    Project Need Statement  \\\n",
       "0        My students need 25 copies of \"Bullying in Sch...   \n",
       "1        My students need a listening center, read alon...   \n",
       "2        My students need beginning vocabulary audio ca...   \n",
       "3        My students need one copy of each book in The ...   \n",
       "4        My students need items such as Velcro, two pou...   \n",
       "...                                                    ...   \n",
       "1110012  My students need the printer's Edge Aluminum S...   \n",
       "1110013  My students need new flexible seating options ...   \n",
       "1110014  My students need must have instruction across ...   \n",
       "1110015  My students need materials that motivate them ...   \n",
       "1110016  My students need an Apple iPad Mini 4 tablet a...   \n",
       "\n",
       "                 Project Subject Category Tree  \\\n",
       "0                             Applied Learning   \n",
       "1        Applied Learning, Literacy & Language   \n",
       "2                          Literacy & Language   \n",
       "3                          Literacy & Language   \n",
       "4                                Special Needs   \n",
       "...                                        ...   \n",
       "1110012                       Music & The Arts   \n",
       "1110013    Literacy & Language, Math & Science   \n",
       "1110014  Literacy & Language, Music & The Arts   \n",
       "1110015                    Literacy & Language   \n",
       "1110016  Applied Learning, Literacy & Language   \n",
       "\n",
       "               Project Subject Subcategory Tree Project Grade Level Category  \\\n",
       "0        Character Education, Early Development                Grades PreK-2   \n",
       "1                   Early Development, Literacy                Grades PreK-2   \n",
       "2                                           ESL                Grades PreK-2   \n",
       "3                                 ESL, Literacy                   Grades 3-5   \n",
       "4                                 Special Needs                   Grades 3-5   \n",
       "...                                         ...                          ...   \n",
       "1110012                             Visual Arts                  Grades 9-12   \n",
       "1110013       Literature & Writing, Mathematics                Grades PreK-2   \n",
       "1110014       Literature & Writing, Visual Arts                Grades PreK-2   \n",
       "1110015                                     ESL                   Grades 3-5   \n",
       "1110016             Early Development, Literacy                Grades PreK-2   \n",
       "\n",
       "              Project Resource Category  Project Cost Project Posted Date  \\\n",
       "0                            Technology        361.80          2013-01-01   \n",
       "1                            Technology        512.85          2013-01-01   \n",
       "2                              Supplies        435.92          2013-01-01   \n",
       "3                                 Books        161.26          2013-01-01   \n",
       "4                              Supplies        264.19          2013-01-01   \n",
       "...                                 ...           ...                 ...   \n",
       "1110012                    Art Supplies        633.84          2018-05-01   \n",
       "1110013  Reading Nooks, Desks & Storage        626.24          2018-05-01   \n",
       "1110014                    Art Supplies        193.13          2018-05-01   \n",
       "1110015                           Books        246.18          2018-05-01   \n",
       "1110016             Computers & Tablets        578.16          2018-05-01   \n",
       "\n",
       "        Project Expiration Date Project Current Status  \\\n",
       "0                    2013-05-30           Fully Funded   \n",
       "1                    2013-05-31                Expired   \n",
       "2                    2013-05-30           Fully Funded   \n",
       "3                    2013-05-31           Fully Funded   \n",
       "4                    2013-05-30           Fully Funded   \n",
       "...                         ...                    ...   \n",
       "1110012              2018-05-22           Fully Funded   \n",
       "1110013              2018-08-30                   Live   \n",
       "1110014              2018-09-01           Fully Funded   \n",
       "1110015              2018-08-30                   Live   \n",
       "1110016              2018-08-30                   Live   \n",
       "\n",
       "        Project Fully Funded Date  \n",
       "0                      2013-01-11  \n",
       "1                             NaN  \n",
       "2                      2013-05-22  \n",
       "3                      2013-02-06  \n",
       "4                      2013-01-01  \n",
       "...                           ...  \n",
       "1110012                2018-05-07  \n",
       "1110013                       NaN  \n",
       "1110014                2018-05-03  \n",
       "1110015                       NaN  \n",
       "1110016                       NaN  \n",
       "\n",
       "[1110017 rows x 18 columns]>"
      ]
     },
     "execution_count": 9,
     "metadata": {},
     "output_type": "execute_result"
    }
   ],
   "source": [
    "#3.Projects dataset has more than 1 million records and 18 columns\n",
    "Projects = pd.read_csv(\"D:/Users/s1037782/Downloads/Projects.csv\")\n",
    "Projects.info"
   ]
  },
  {
   "cell_type": "code",
   "execution_count": 10,
   "metadata": {},
   "outputs": [
    {
     "data": {
      "text/plain": [
       "<bound method DataFrame.info of                               School ID  \\\n",
       "0      00003e0fdd601b8ea0a6eb44057b9c5e   \n",
       "1      00004e32a448b4832e1b993500bf0731   \n",
       "2      0002021bb799f28de224f1acc1ff08c4   \n",
       "3      0004604f675212a8cac1161338265196   \n",
       "4      0004c9d50bcf0cea990f844e58b5e2c3   \n",
       "...                                 ...   \n",
       "72988  fffb8fb6bf0d738b95a29106d4fa2319   \n",
       "72989  fffce2124c11a8372eb23948a3471546   \n",
       "72990  ffff8bee61b72c484b10e43aa9e35bc9   \n",
       "72991  ffff9bb21699f79266cc7cbc208890a0   \n",
       "72992  ffffc2e1225ac40a3ace9b8562115c9b   \n",
       "\n",
       "                                  School Name School Metro Type  \\\n",
       "0                  Capon Bridge Middle School             rural   \n",
       "1      The Woodlands College Park High School             urban   \n",
       "2            Samantha Smith Elementary School          suburban   \n",
       "3                Kingsbury Country Day School           unknown   \n",
       "4                  Redwater Elementary School             rural   \n",
       "...                                       ...               ...   \n",
       "72988        Woodland Acres Elementary School          suburban   \n",
       "72989               Clark Intermediate School          suburban   \n",
       "72990                Morgantown Middle School           unknown   \n",
       "72991               L H Marrero Middle School          suburban   \n",
       "72992                 La Causa Charter School             urban   \n",
       "\n",
       "       School Percentage Free Lunch   School State  School Zip    School City  \\\n",
       "0                              56.0  West Virginia       26711   Capon Bridge   \n",
       "1                              41.0          Texas       77384  The Woodlands   \n",
       "2                               2.0     Washington       98074      Sammamish   \n",
       "3                              76.0       Michigan       48370         Oxford   \n",
       "4                              50.0          Texas       75573       Redwater   \n",
       "...                             ...            ...         ...            ...   \n",
       "72988                          83.0          Texas       77015        Houston   \n",
       "72989                          53.0     California       93612         Clovis   \n",
       "72990                          95.0    Mississippi       39120        Natchez   \n",
       "72991                          83.0      Louisiana       70072        Marrero   \n",
       "72992                          94.0      Wisconsin       53204      Milwaukee   \n",
       "\n",
       "      School County                 School District  \n",
       "0         Hampshire    Hampshire Co School District  \n",
       "1        Montgomery      Conroe Ind School District  \n",
       "2              King    Lake Washington Sch Dist 414  \n",
       "3           Oakland      Michigan Dept Of Education  \n",
       "4             Bowie       Redwater Ind Sch District  \n",
       "...             ...                             ...  \n",
       "72988        Harris     Galena Park Ind School Dist  \n",
       "72989        Fresno  Clovis Unified School District  \n",
       "72990         Adams   Natchez-Adams School District  \n",
       "72991     Jefferson   Jefferson Parish Pub Sch Dist  \n",
       "72992     Milwaukee        Milwaukee Public Schools  \n",
       "\n",
       "[72993 rows x 9 columns]>"
      ]
     },
     "execution_count": 10,
     "metadata": {},
     "output_type": "execute_result"
    }
   ],
   "source": [
    "#4. School datasets has about 72000 records and 9 columns\n",
    "School=pd.read_csv(\"D:/Users/s1037782/Downloads/Schools.csv\")\n",
    "School.info"
   ]
  },
  {
   "cell_type": "code",
   "execution_count": 11,
   "metadata": {},
   "outputs": [
    {
     "data": {
      "text/plain": [
       "<bound method DataFrame.info of                               Teacher ID Teacher Prefix  \\\n",
       "0       00000f7264c27ba6fea0c837ed6aa0aa           Mrs.   \n",
       "1       00002d44003ed46b066607c5455a999a           Mrs.   \n",
       "2       00006084c3d92d904a22e0a70f5c119a            Mr.   \n",
       "3       0000a9af8b6b9cc9e41f53322a8b8cf1            Ms.   \n",
       "4       0000d4777d14b33a1406dd6c9019fe89            Ms.   \n",
       "...                                  ...            ...   \n",
       "402895  ffff80baec08450113ceb12f068d9cb4           Mrs.   \n",
       "402896  ffff8bee61b72c484b10e43aa9e35bc9            Ms.   \n",
       "402897  ffff8e040521f62207881376ecc964d5           Mrs.   \n",
       "402898  ffffd6109de6e84c522f0aacb28a6470            Ms.   \n",
       "402899  fffff9055756ed29a5aa13ee8e222ac8           Mrs.   \n",
       "\n",
       "       Teacher First Project Posted Date  \n",
       "0                             2013-08-21  \n",
       "1                             2016-10-23  \n",
       "2                             2016-09-08  \n",
       "3                             2015-10-25  \n",
       "4                             2017-02-10  \n",
       "...                                  ...  \n",
       "402895                        2016-11-02  \n",
       "402896                        2016-08-25  \n",
       "402897                        2009-02-11  \n",
       "402898                        2016-09-01  \n",
       "402899                        2014-03-08  \n",
       "\n",
       "[402900 rows x 3 columns]>"
      ]
     },
     "execution_count": 11,
     "metadata": {},
     "output_type": "execute_result"
    }
   ],
   "source": [
    "#5. Teachers datasets  202 900 and 3 columns\n",
    "Teachers=pd.read_csv(\"D:/Users/s1037782/Downloads/Teachers.csv\")\n",
    "Teachers.info"
   ]
  },
  {
   "cell_type": "code",
   "execution_count": null,
   "metadata": {},
   "outputs": [],
   "source": []
  }
 ],
 "metadata": {
  "kernelspec": {
   "display_name": "Python 3",
   "language": "python",
   "name": "python3"
  },
  "language_info": {
   "codemirror_mode": {
    "name": "ipython",
    "version": 3
   },
   "file_extension": ".py",
   "mimetype": "text/x-python",
   "name": "python",
   "nbconvert_exporter": "python",
   "pygments_lexer": "ipython3",
   "version": "3.7.4"
  }
 },
 "nbformat": 4,
 "nbformat_minor": 4
}
